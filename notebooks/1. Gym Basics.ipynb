{
 "cells": [
  {
   "cell_type": "code",
   "execution_count": null,
   "id": "2907f2ae",
   "metadata": {},
   "outputs": [],
   "source": [
    "# following https://blog.paperspace.com/getting-started-with-openai-gym/ "
   ]
  },
  {
   "cell_type": "code",
   "execution_count": 15,
   "id": "1b132393",
   "metadata": {},
   "outputs": [],
   "source": [
    "import gym\n",
    "import matplotlib.pyplot as plt\n",
    "from IPython import display\n",
    "import time"
   ]
  },
  {
   "cell_type": "code",
   "execution_count": 2,
   "id": "0a0babae",
   "metadata": {},
   "outputs": [],
   "source": [
    "env = gym.make('MountainCar-v0')"
   ]
  },
  {
   "cell_type": "code",
   "execution_count": 3,
   "id": "06975d34",
   "metadata": {},
   "outputs": [
    {
     "name": "stdout",
     "output_type": "stream",
     "text": [
      "The observation space: Box([-1.2  -0.07], [0.6  0.07], (2,), float32)\n",
      "The action space: Discrete(3)\n"
     ]
    }
   ],
   "source": [
    "# print the observation and action spaces\n",
    "\n",
    "print(\"The observation space: {}\".format(env.observation_space))\n",
    "print(\"The action space: {}\".format(env.action_space))"
   ]
  },
  {
   "cell_type": "code",
   "execution_count": 4,
   "id": "7218bf3c",
   "metadata": {},
   "outputs": [
    {
     "name": "stdout",
     "output_type": "stream",
     "text": [
      "The initial observation is [-0.59669447  0.        ]\n",
      "The new observation is [-5.971506e-01 -4.561654e-04]\n"
     ]
    }
   ],
   "source": [
    "obs = env.reset()\n",
    "print(\"The initial observation is {}\".format(obs))\n",
    "\n",
    "# Sample a random action from the entire action space\n",
    "random_action = env.action_space.sample()\n",
    "\n",
    "# # Take the action and get the new observation space\n",
    "new_obs, reward, done, info = env.step(random_action)\n",
    "print(\"The new observation is {}\".format(new_obs))"
   ]
  },
  {
   "cell_type": "code",
   "execution_count": 5,
   "id": "c35f24a5",
   "metadata": {},
   "outputs": [
    {
     "data": {
      "image/png": "[encoded data removed]",
      "text/plain": [
       "<Figure size 432x288 with 1 Axes>"
      ]
     },
     "metadata": {
      "needs_background": "light"
     },
     "output_type": "display_data"
    }
   ],
   "source": [
    "for _ in range(5):    # or for till we want to see the model perform\n",
    "    plt.imshow(env.render(mode='rgb_array'))\n",
    "    display.display(plt.gcf())\n",
    "    display.clear_output(wait=True)\n",
    "    action = env.action_space.sample()              # replace with an intelligent policy\n",
    "    env.step(action)"
   ]
  },
  {
   "cell_type": "code",
   "execution_count": 6,
   "id": "2fa312a7",
   "metadata": {},
   "outputs": [],
   "source": [
    "# !pip install --upgrade pip setuptools wheel\n",
    "# !pip install opencv-python\n",
    "# !pip install gym[atari]"
   ]
  },
  {
   "cell_type": "code",
   "execution_count": 7,
   "id": "1d6323df",
   "metadata": {},
   "outputs": [],
   "source": [
    "# !pip install autorom[accept-rom-license]"
   ]
  },
  {
   "cell_type": "code",
   "execution_count": 12,
   "id": "60abfc76",
   "metadata": {},
   "outputs": [],
   "source": [
    "my_render = lambda z: plt.imshow(z.render(mode='rgb_array'))"
   ]
  },
  {
   "cell_type": "code",
   "execution_count": 8,
   "id": "f4be7387",
   "metadata": {},
   "outputs": [
    {
     "name": "stderr",
     "output_type": "stream",
     "text": [
      "A.L.E: Arcade Learning Environment (version 0.7.5+db37282)\n",
      "[Powered by Stella]\n"
     ]
    }
   ],
   "source": [
    "env = gym.make(\"BreakoutNoFrameskip-v4\")"
   ]
  },
  {
   "cell_type": "code",
   "execution_count": 9,
   "id": "adcaa107",
   "metadata": {},
   "outputs": [
    {
     "name": "stdout",
     "output_type": "stream",
     "text": [
      "Observation Space:  Box(0, 255, (210, 160, 3), uint8)\n",
      "Action Space        Discrete(4)\n"
     ]
    }
   ],
   "source": [
    "print(\"Observation Space: \", env.observation_space)\n",
    "print(\"Action Space       \", env.action_space)"
   ]
  },
  {
   "cell_type": "code",
   "execution_count": 24,
   "id": "5590da3c",
   "metadata": {},
   "outputs": [
    {
     "data": {
      "image/png": "[encoded data removed]",
      "text/plain": [
       "<Figure size 432x288 with 1 Axes>"
      ]
     },
     "metadata": {
      "needs_background": "light"
     },
     "output_type": "display_data"
    }
   ],
   "source": [
    "rewards = []\n",
    "for _ in range(20):    # or for till we want to see the model perform\n",
    "    plt.imshow(env.render(mode='rgb_array'))\n",
    "    display.display(plt.gcf())\n",
    "    time.sleep(0.01)\n",
    "    display.clear_output(wait=True)\n",
    "    action = env.action_space.sample()              # replace with an intelligent policy\n",
    "    new_obs, reward, done, info = env.step(action)\n",
    "    rewards.append(reward)"
   ]
  },
  {
   "cell_type": "code",
   "execution_count": 25,
   "id": "5fcf80aa",
   "metadata": {},
   "outputs": [
    {
     "data": {
      "image/png": "[encoded data removed]",
      "text/plain": [
       "<Figure size 432x288 with 1 Axes>"
      ]
     },
     "metadata": {
      "needs_background": "light"
     },
     "output_type": "display_data"
    }
   ],
   "source": [
    "plt.plot(rewards)\n",
    "plt.show()"
   ]
  },
  {
   "cell_type": "code",
   "execution_count": null,
   "id": "4dc7f6aa",
   "metadata": {},
   "outputs": [],
   "source": []
  }
 ],
 "metadata": {
  "kernelspec": {
   "display_name": "Python 3 (ipykernel)",
   "language": "python",
   "name": "python3"
  },
  "language_info": {
   "codemirror_mode": {
    "name": "ipython",
    "version": 3
   },
   "file_extension": ".py",
   "mimetype": "text/x-python",
   "name": "python",
   "nbconvert_exporter": "python",
   "pygments_lexer": "ipython3",
   "version": "3.10.4"
  }
 },
 "nbformat": 4,
 "nbformat_minor": 5
}
