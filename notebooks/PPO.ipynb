{
 "cells": [
  {
   "cell_type": "code",
   "execution_count": 1,
   "id": "92c396e4",
   "metadata": {},
   "outputs": [],
   "source": [
    "# Aim: To train a PPO model on bipedal walker"
   ]
  },
  {
   "cell_type": "code",
   "execution_count": 3,
   "id": "56edc012",
   "metadata": {},
   "outputs": [],
   "source": [
    "# Materials Required:\n",
    "\n",
    "import copy\n",
    "import random\n",
    "from typing import Dict, List, Tuple\n",
    "\n",
    "import gym\n",
    "import matplotlib.pyplot as plt\n",
    "import numpy as np\n",
    "import torch\n",
    "import torch.nn as nn\n",
    "import torch.nn.functional as F\n",
    "import torch.optim as optim\n",
    "\n",
    "from matplotlib import animation\n",
    "from JSAnimation.IPython_display import display_animation\n",
    "from IPython.display import display, clear_output\n",
    "\n",
    "if torch.backends.cudnn.enabled:\n",
    "    torch.backends.cudnn.benchmark = False\n",
    "    torch.backends.cudnn.deterministic = True\n",
    "\n",
    "seed = 777\n",
    "torch.manual_seed(seed)\n",
    "random.seed(seed)"
   ]
  },
  {
   "cell_type": "code",
   "execution_count": 4,
   "id": "cff71d45",
   "metadata": {},
   "outputs": [
    {
     "data": {
      "text/plain": [
       "True"
      ]
     },
     "execution_count": 4,
     "metadata": {},
     "output_type": "execute_result"
    }
   ],
   "source": [
    "# Step 1: Check if GPU is available\n",
    "\n",
    "torch.cuda.is_available()"
   ]
  },
  {
   "cell_type": "code",
   "execution_count": 5,
   "id": "cd522b95",
   "metadata": {},
   "outputs": [
    {
     "name": "stdout",
     "output_type": "stream",
     "text": [
      "(24,)\n",
      "Box(-1.0, 1.0, (4,), float32)\n"
     ]
    }
   ],
   "source": [
    "# Step 2: Understand the gym environment a bit\n",
    "\n",
    "env_id = 'BipedalWalker-v3'\n",
    "env = gym.make(env_id)\n",
    "render = lambda z: plt.imshow(z.render(mode='rgb_array'))\n",
    "print(env.observation_space.shape)\n",
    "print(env.action_space)\n",
    "\n",
    "# Since the action space is already in [-1, 1], we don't need a wrapper"
   ]
  },
  {
   "cell_type": "code",
   "execution_count": null,
   "id": "740ee3e5",
   "metadata": {},
   "outputs": [],
   "source": []
  }
 ],
 "metadata": {
  "kernelspec": {
   "display_name": "Python 3 (ipykernel)",
   "language": "python",
   "name": "python3"
  },
  "language_info": {
   "codemirror_mode": {
    "name": "ipython",
    "version": 3
   },
   "file_extension": ".py",
   "mimetype": "text/x-python",
   "name": "python",
   "nbconvert_exporter": "python",
   "pygments_lexer": "ipython3",
   "version": "3.10.4"
  }
 },
 "nbformat": 4,
 "nbformat_minor": 5
}
