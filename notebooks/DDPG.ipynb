{
 "cells": [
  {
   "cell_type": "code",
   "execution_count": 1,
   "id": "82e6e953",
   "metadata": {},
   "outputs": [],
   "source": [
    "# Aim: To train a DDPG model on bipedal walker"
   ]
  },
  {
   "cell_type": "code",
   "execution_count": 7,
   "id": "2571c06e",
   "metadata": {},
   "outputs": [],
   "source": [
    "# Materials Required:\n",
    "\n",
    "import copy\n",
    "import random\n",
    "from typing import Dict, List, Tuple\n",
    "\n",
    "import gym\n",
    "import matplotlib.pyplot as plt\n",
    "import numpy as np\n",
    "import torch\n",
    "import torch.nn as nn\n",
    "import torch.nn.functional as F\n",
    "import torch.optim as optim\n",
    "\n",
    "from matplotlib import animation\n",
    "from JSAnimation.IPython_display import display_animation\n",
    "from IPython.display import display, clear_output\n",
    "\n",
    "if torch.backends.cudnn.enabled:\n",
    "    torch.backends.cudnn.benchmark = False\n",
    "    torch.backends.cudnn.deterministic = True\n",
    "\n",
    "seed = 777\n",
    "torch.manual_seed(seed)\n",
    "random.seed(seed)"
   ]
  },
  {
   "cell_type": "code",
   "execution_count": 4,
   "id": "d48538c9",
   "metadata": {},
   "outputs": [
    {
     "data": {
      "text/plain": [
       "True"
      ]
     },
     "execution_count": 4,
     "metadata": {},
     "output_type": "execute_result"
    }
   ],
   "source": [
    "# Step 1: Check if GPU is available\n",
    "\n",
    "torch.cuda.is_available()"
   ]
  },
  {
   "cell_type": "code",
   "execution_count": 5,
   "id": "58a455c1",
   "metadata": {},
   "outputs": [
    {
     "name": "stdout",
     "output_type": "stream",
     "text": [
      "(24,)\n",
      "Box(-1.0, 1.0, (4,), float32)\n"
     ]
    }
   ],
   "source": [
    "# Step 2: Understand the gym environment a bit\n",
    "\n",
    "env_id = 'BipedalWalker-v3'\n",
    "env = gym.make(env_id)\n",
    "render = lambda z: plt.imshow(z.render(mode='rgb_array'))\n",
    "print(env.observation_space.shape)\n",
    "print(env.action_space)\n",
    "\n",
    "# Since the action space is already in [-1, 1], we don't need a wrapper"
   ]
  },
  {
   "cell_type": "code",
   "execution_count": 46,
   "id": "1c5f23ea",
   "metadata": {},
   "outputs": [],
   "source": [
    "# Step 3: Create a Replay Buffer to store OARO tuples"
   ]
  },
  {
   "cell_type": "code",
   "execution_count": 86,
   "id": "ca655b8a",
   "metadata": {},
   "outputs": [],
   "source": [
    "class ReplayBuffer:\n",
    "    \n",
    "    def __init__(self, obs_dim, act_dim, buffer_size, batch_size):\n",
    "        self.obs = np.zeros([buffer_size, obs_dim], dtype=np.float32)\n",
    "        self.act = np.zeros([buffer_size, act_dim], dtype=np.float32)\n",
    "        self.rew = np.zeros([buffer_size], dtype=np.float32)\n",
    "        self.don = np.zeros([buffer_size], dtype=np.float32)\n",
    "        self.nxt = np.zeros([buffer_size, obs_dim], dtype=np.float32)\n",
    "        self.buffer_size = buffer_size\n",
    "        self.batch_size = batch_size\n",
    "        self.current_size = 0\n",
    "        self.ptr = 0\n",
    "\n",
    "        \n",
    "    def store(self, obs, act, rew, nxt, don):\n",
    "        self.obs[self.ptr] = obs\n",
    "        self.act[self.ptr] = act\n",
    "        self.rew[self.ptr] = rew\n",
    "        self.don[self.ptr] = don\n",
    "        self.nxt[self.ptr] = nxt\n",
    "        self.ptr = (self.ptr + 1) % self.buffer_size\n",
    "        self.current_size = min(self.current_size + 1, self.buffer_size)\n",
    "        \n",
    "    def sample(self):\n",
    "        idxs = np.random.choice(self.current_size, size=self.batch_size, replace=False)\n",
    "        return dict(\n",
    "            obs = self.obs[idxs],\n",
    "            act = self.act[idxs],\n",
    "            rew = self.rew[idxs],\n",
    "            don = self.don[idxs],\n",
    "            nxt = self.nxt[idxs]\n",
    "        )\n",
    "\n",
    "    def __len__(self) -> int:\n",
    "        return self.current_size"
   ]
  },
  {
   "cell_type": "code",
   "execution_count": 87,
   "id": "be829d5e",
   "metadata": {},
   "outputs": [],
   "source": [
    "# Step 4: Create random OU noise (try replacing with gaussian noise)"
   ]
  },
  {
   "cell_type": "code",
   "execution_count": 88,
   "id": "8dda66a0",
   "metadata": {},
   "outputs": [],
   "source": [
    "class OUNoise:\n",
    "    def __init__(self, size, mu=0.0, theta=0.15, sigma=0.2):\n",
    "        self.state = np.float64(0.0)\n",
    "        self.mu = mu * np.ones(size)\n",
    "        self.theta = theta\n",
    "        self.sigma = sigma\n",
    "        self.reset()\n",
    "\n",
    "    def reset(self):\n",
    "        self.state = copy.copy(self.mu)\n",
    "\n",
    "    def sample(self) -> np.ndarray:\n",
    "        x = self.state\n",
    "        dx = self.theta * (self.mu - x) + self.sigma * np.array(\n",
    "            [random.random() for _ in range(len(x))]\n",
    "        )\n",
    "        self.state = x + dx\n",
    "        return self.state"
   ]
  },
  {
   "cell_type": "code",
   "execution_count": 89,
   "id": "2f5ee8bd",
   "metadata": {},
   "outputs": [],
   "source": [
    "# Step 5: Create networks for actor (policy) and critic (value) functions"
   ]
  },
  {
   "cell_type": "code",
   "execution_count": 90,
   "id": "40b56223",
   "metadata": {},
   "outputs": [],
   "source": [
    "class Actor(nn.Module):\n",
    "    def __init__(self, in_dim, out_dim, init_w = 3e-3):\n",
    "        super(Actor, self).__init__()\n",
    "        self.hidden1 = nn.Linear(in_dim, 128)\n",
    "        self.hidden2 = nn.Linear(128, 128)\n",
    "        self.out = nn.Linear(128, out_dim)\n",
    "        self.out.weight.data.uniform_(-init_w, init_w)\n",
    "        self.out.bias.data.uniform_(-init_w, init_w)\n",
    "\n",
    "    def forward(self, state):\n",
    "        x = F.relu(self.hidden1(state))\n",
    "        x = F.relu(self.hidden2(x))\n",
    "        action = self.out(x).tanh()\n",
    "        \n",
    "        return action"
   ]
  },
  {
   "cell_type": "code",
   "execution_count": 117,
   "id": "c308d275",
   "metadata": {},
   "outputs": [],
   "source": [
    "class Critic(nn.Module):\n",
    "    def __init__(self, in_dim, init_w = 3e-3):\n",
    "        super(Critic, self).__init__()\n",
    "        self.hidden1 = nn.Linear(in_dim, 128)\n",
    "        self.hidden2 = nn.Linear(128, 128)\n",
    "        self.out = nn.Linear(128, 1)\n",
    "        self.out.weight.data.uniform_(-init_w, init_w)\n",
    "        self.out.bias.data.uniform_(-init_w, init_w)\n",
    "\n",
    "    def forward(self, state, action):\n",
    "        x = torch.cat((state, action), dim=-1)\n",
    "        x = F.relu(self.hidden1(x))\n",
    "        x = F.relu(self.hidden2(x))\n",
    "        value = self.out(x)\n",
    "        \n",
    "        return value"
   ]
  },
  {
   "cell_type": "code",
   "execution_count": 118,
   "id": "69850a6d",
   "metadata": {},
   "outputs": [],
   "source": [
    "# Step 6: Connect these parts to create a DDPG Agent"
   ]
  },
  {
   "cell_type": "code",
   "execution_count": null,
   "id": "5b7665ff",
   "metadata": {},
   "outputs": [],
   "source": []
  },
  {
   "cell_type": "code",
   "execution_count": 150,
   "id": "19f60411",
   "metadata": {},
   "outputs": [],
   "source": [
    "class DDPGAgent():\n",
    "    \n",
    "    def __init__(self, env, memory_size, batch_size, ou_noise_theta, ou_noise_sigma,initial_random_steps, gamma, tau):\n",
    "        obs_dim = env.observation_space.shape[0]\n",
    "        act_dim = env.action_space.shape[0]\n",
    "        self.env = env\n",
    "        self.memory = ReplayBuffer(obs_dim, act_dim, memory_size, batch_size)\n",
    "        self.batch_size = batch_size\n",
    "        self.gamma = gamma\n",
    "        self.tau = tau\n",
    "        self.initial_random_steps = initial_random_steps\n",
    "        self.noise = OUNoise(act_dim, theta=ou_noise_theta, sigma=ou_noise_sigma)\n",
    "        self.device = torch.device(\"cuda\" if torch.cuda.is_available() else \"cpu\")\n",
    "        print(self.device)\n",
    "        self.actor = Actor(obs_dim, act_dim).to(self.device)\n",
    "        self.actor_target = Actor(obs_dim, act_dim).to(self.device)\n",
    "        self.actor_target.load_state_dict(self.actor.state_dict())\n",
    "        self.critic = Critic(obs_dim + act_dim).to(self.device)\n",
    "        self.critic_target = Critic(obs_dim + act_dim).to(self.device)\n",
    "        self.critic_target.load_state_dict(self.critic.state_dict())\n",
    "        self.actor_optimizer = optim.Adam(self.actor.parameters(), lr=3e-4)\n",
    "        self.critic_optimizer = optim.Adam(self.critic.parameters(), lr=1e-3)\n",
    "        self.transition = list()\n",
    "        self.total_step = 0\n",
    "        self.is_test = False\n",
    "        \n",
    "    def select_action(self, obs):\n",
    "        if self.total_step < self.initial_random_steps and not self.is_test:\n",
    "            selected_action = self.env.action_space.sample()\n",
    "        else:\n",
    "            selected_action = self.actor(torch.FloatTensor(obs).to(self.device)).detach().cpu().numpy()\n",
    "        if not self.is_test:\n",
    "            noise = self.noise.sample()\n",
    "            selected_action = np.clip(selected_action + noise, -1.0, 1.0)\n",
    "        self.transition = [obs, selected_action]\n",
    "        return selected_action\n",
    "    \n",
    "    def step(self, act):\n",
    "        nxt, rew, don, _ = self.env.step(act)        \n",
    "        if not self.is_test:\n",
    "            self.transition += [rew, nxt, don]\n",
    "            self.memory.store(*self.transition)\n",
    "        return nxt, rew, don\n",
    "    \n",
    "    def update_model(self):\n",
    "        device = self.device\n",
    "        samples = self.memory.sample()\n",
    "        obs = torch.FloatTensor(samples[\"obs\"]).to(device)\n",
    "        nxt = torch.FloatTensor(samples[\"nxt\"]).to(device)\n",
    "        act = torch.FloatTensor(samples[\"act\"]).to(device)\n",
    "        rew = torch.FloatTensor(samples[\"rew\"].reshape(-1, 1)).to(device)\n",
    "        don = torch.FloatTensor(samples[\"don\"].reshape(-1, 1)).to(device)\n",
    "        masks = 1 - don\n",
    "        next_action = self.actor_target(nxt)\n",
    "        next_value = self.critic_target(nxt, next_action)\n",
    "        curr_return = rew + self.gamma * next_value * masks\n",
    "        values = self.critic(obs, act)\n",
    "        critic_loss = F.mse_loss(values, curr_return)\n",
    "        self.critic_optimizer.zero_grad()\n",
    "        critic_loss.backward()\n",
    "        self.critic_optimizer.step()\n",
    "        actor_loss = -self.critic(obs, self.actor(obs)).mean()\n",
    "        self.actor_optimizer.zero_grad()\n",
    "        actor_loss.backward()\n",
    "        self.actor_optimizer.step()\n",
    "        self._target_soft_update()\n",
    "        return actor_loss.data, critic_loss.data\n",
    "    \n",
    "    def train(self, num_frames, plotting_interval=200):\n",
    "        self.is_test = False\n",
    "        state = self.env.reset()\n",
    "        actor_losses = []\n",
    "        critic_losses = []\n",
    "        scores = []\n",
    "        score = 0\n",
    "        for self.total_step in range(1, num_frames + 1):\n",
    "            action = self.select_action(state)\n",
    "            next_state, reward, done = self.step(action)\n",
    "            state = next_state\n",
    "            score += reward\n",
    "            if done:         \n",
    "                state = env.reset()\n",
    "                scores.append(score)\n",
    "                score = 0\n",
    "            if (len(self.memory) >= self.batch_size and self.total_step > self.initial_random_steps):\n",
    "                actor_loss, critic_loss = self.update_model()\n",
    "                actor_losses.append(actor_loss.cpu())\n",
    "                critic_losses.append(critic_loss.cpu())\n",
    "            if self.total_step % plotting_interval == 0:\n",
    "                self._plot(self.total_step, scores, actor_losses, critic_losses)\n",
    "        self.env.close()\n",
    "        \n",
    "    def test(self):\n",
    "        self.is_test = True\n",
    "        state = self.env.reset()\n",
    "        done = False\n",
    "        score = 0\n",
    "        frames = []\n",
    "        while not done:\n",
    "#             frames.append(self.env.render(mode=\"rgb_array\"))\n",
    "            action = self.select_action(state)\n",
    "            next_state, reward, done = self.step(action)\n",
    "            state = next_state\n",
    "            score += reward\n",
    "        print(\"score: \", score)\n",
    "        self.env.close()\n",
    "        return frames\n",
    "    \n",
    "    def _target_soft_update(self):\n",
    "        tau = self.tau\n",
    "        for t_param, l_param in zip(self.actor_target.parameters(), self.actor.parameters()):\n",
    "            t_param.data.copy_(tau * l_param.data + (1.0 - tau) * t_param.data)\n",
    "        for t_param, l_param in zip(self.critic_target.parameters(), self.critic.parameters()):\n",
    "            t_param.data.copy_(tau * l_param.data + (1.0 - tau) * t_param.data)\n",
    "    \n",
    "    def _plot(self, frame_idx, scores, actor_losses, critic_losses):\n",
    "        def subplot(loc, title, values):\n",
    "            plt.subplot(loc)\n",
    "            plt.title(title)\n",
    "            plt.plot(values)\n",
    "            plt.grid()\n",
    "        subplot_params = [\n",
    "            (131, f\"frame {frame_idx}. score: {np.mean(scores[-10:])}\", scores),\n",
    "            (132, \"actor_loss\", actor_losses),\n",
    "            (133, \"critic_loss\", critic_losses),\n",
    "        ]\n",
    "        clear_output(True)\n",
    "        plt.figure(figsize=(30, 5))\n",
    "        for loc, title, values in subplot_params:\n",
    "            subplot(loc, title, values)\n",
    "        plt.show()"
   ]
  },
  {
   "cell_type": "code",
   "execution_count": 140,
   "id": "e2ee3f22",
   "metadata": {},
   "outputs": [],
   "source": [
    "# Step 7: Define the parameters and agent"
   ]
  },
  {
   "cell_type": "code",
   "execution_count": 145,
   "id": "f57898e8",
   "metadata": {},
   "outputs": [
    {
     "name": "stdout",
     "output_type": "stream",
     "text": [
      "cuda\n"
     ]
    }
   ],
   "source": [
    "num_frames = 500000\n",
    "memory_size = 100000\n",
    "batch_size = 128\n",
    "ou_noise_theta = 1.0\n",
    "ou_noise_sigma = 0.1\n",
    "initial_random_steps = 20000\n",
    "gamma = 0.99\n",
    "tau = 5e-3\n",
    "\n",
    "agent = DDPGAgent(env, memory_size, batch_size, ou_noise_theta, ou_noise_sigma, initial_random_steps, gamma, tau)"
   ]
  },
  {
   "cell_type": "code",
   "execution_count": 146,
   "id": "c09bfa59",
   "metadata": {},
   "outputs": [],
   "source": [
    "# Step 8: Train the agent"
   ]
  },
  {
   "cell_type": "code",
   "execution_count": 147,
   "id": "119616eb",
   "metadata": {},
   "outputs": [
    {
     "data": {
      "image/png": "[encoded data removed]",
      "text/plain": [
       "<Figure size 2160x360 with 3 Axes>"
      ]
     },
     "metadata": {
      "needs_background": "light"
     },
     "output_type": "display_data"
    }
   ],
   "source": [
    "agent.train(num_frames)"
   ]
  },
  {
   "cell_type": "code",
   "execution_count": 153,
   "id": "54b6ba40",
   "metadata": {},
   "outputs": [],
   "source": [
    "def testt(agent):\n",
    "        agent.is_test = True\n",
    "        state = agent.env.reset()\n",
    "        done = False\n",
    "        score = 0\n",
    "        frames = []\n",
    "        while not done:\n",
    "            action = agent.select_action(state)\n",
    "            next_state, reward, done = agent.step(action)\n",
    "            state = next_state\n",
    "            score += reward\n",
    "        print(\"score: \", score)\n",
    "        agent.env.close()\n",
    "        return frames"
   ]
  },
  {
   "cell_type": "code",
   "execution_count": 157,
   "id": "866438b6",
   "metadata": {},
   "outputs": [
    {
     "name": "stdout",
     "output_type": "stream",
     "text": [
      "score:  -166.97350267223393\n"
     ]
    },
    {
     "data": {
      "text/plain": [
       "[]"
      ]
     },
     "execution_count": 157,
     "metadata": {},
     "output_type": "execute_result"
    }
   ],
   "source": [
    "testt(agent)"
   ]
  },
  {
   "cell_type": "code",
   "execution_count": null,
   "id": "b1d386ea",
   "metadata": {},
   "outputs": [],
   "source": []
  },
  {
   "cell_type": "code",
   "execution_count": null,
   "id": "e52b220c",
   "metadata": {},
   "outputs": [],
   "source": []
  }
 ],
 "metadata": {
  "kernelspec": {
   "display_name": "Python 3 (ipykernel)",
   "language": "python",
   "name": "python3"
  },
  "language_info": {
   "codemirror_mode": {
    "name": "ipython",
    "version": 3
   },
   "file_extension": ".py",
   "mimetype": "text/x-python",
   "name": "python",
   "nbconvert_exporter": "python",
   "pygments_lexer": "ipython3",
   "version": "3.10.4"
  }
 },
 "nbformat": 4,
 "nbformat_minor": 5
}
